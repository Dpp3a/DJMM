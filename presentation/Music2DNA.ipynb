{
 "cells": [
  {
   "cell_type": "markdown",
   "metadata": {},
   "source": [
    "# 1) Conversion of music file to DNA fasta file"
   ]
  },
  {
   "cell_type": "markdown",
   "metadata": {},
   "source": [
    "### 1.1) Conversion of sounds to frequencies to notes"
   ]
  },
  {
   "cell_type": "markdown",
   "metadata": {},
   "source": [
    "Information about song"
   ]
  },
  {
   "cell_type": "code",
   "execution_count": 1,
   "metadata": {},
   "outputs": [],
   "source": [
    "songname = 'SuperMario'\n",
    "year = '1989'\n",
    "genre = 'Pop'"
   ]
  },
  {
   "cell_type": "markdown",
   "metadata": {},
   "source": [
    "load packages"
   ]
  },
  {
   "cell_type": "code",
   "execution_count": 2,
   "metadata": {},
   "outputs": [],
   "source": [
    "import sys\n",
    "import statistics\n",
    "import subprocess\n",
    "import random\n",
    "\n",
    "freq_to_letter_dict = {}\n",
    "time_note = {}"
   ]
  },
  {
   "cell_type": "markdown",
   "metadata": {},
   "source": [
    "Pull in .wav file to aubio"
   ]
  },
  {
   "cell_type": "code",
   "execution_count": 3,
   "metadata": {},
   "outputs": [],
   "source": [
    "filename = 'SuperMario.wav '\n",
    "aubio_output = subprocess.check_output('aubiopitch '+ filename, shell = True)\n",
    "aubio_output = aubio_output.decode('utf-8')\n"
   ]
  },
  {
   "cell_type": "markdown",
   "metadata": {},
   "source": [
    "Split aubio list on newlines to make it readable"
   ]
  },
  {
   "cell_type": "code",
   "execution_count": 4,
   "metadata": {},
   "outputs": [],
   "source": [
    "aubio_list = aubio_output.split(\"\\n\")"
   ]
  },
  {
   "cell_type": "markdown",
   "metadata": {},
   "source": [
    "Make a dictionary for duration and frequency of notes in music"
   ]
  },
  {
   "cell_type": "code",
   "execution_count": 5,
   "metadata": {},
   "outputs": [],
   "source": [
    "freq_dict = {}\n",
    "for line in aubio_list:\n",
    "\tline_split = line.split()\n",
    "\tif len(line_split) !=2:\n",
    "\t\t#print('Messed up',line)\n",
    "\t\tcontinue\n",
    "\ttime = float(line_split[0])\n",
    "\tfrequency = float(line_split[1])\n",
    "\tfreq_dict[time] = frequency"
   ]
  },
  {
   "cell_type": "markdown",
   "metadata": {},
   "source": [
    "opening the reference musical-note-to-frequency file"
   ]
  },
  {
   "cell_type": "code",
   "execution_count": 6,
   "metadata": {},
   "outputs": [],
   "source": [
    "with open('freq_note.txt','r') as file_obj2:\n",
    "\tfor line in file_obj2:\n",
    "                min_max_dict = {}\t\t#Open a sub-dictionary for each note\n",
    "                line = line.rstrip()\n",
    "                line_split = line.split()\n",
    "                note = line_split[0]\n",
    "                frequency_min =float(line_split[1])\t#Take the minimum frequency\n",
    "                frequency_max = float(line_split[2])\t#Take the maximum frequency\n",
    "                min_max_dict[\"mini\"]=frequency_min\t#Append the max/min frequency into the dictionary as a sub-dictionary\n",
    "                min_max_dict[\"maxi\"]=frequency_max\n",
    "                freq_to_letter_dict[note] = min_max_dict            #Makes a dictionary with form {note:{min,max}}"
   ]
  },
  {
   "cell_type": "markdown",
   "metadata": {},
   "source": [
    "Loop through the notes in the reference dictionary"
   ]
  },
  {
   "cell_type": "code",
   "execution_count": 7,
   "metadata": {},
   "outputs": [],
   "source": [
    "for note in freq_to_letter_dict:\n",
    "    for minimum in freq_to_letter_dict[note]:    \n",
    "        mini = freq_to_letter_dict[note][\"mini\"]\n",
    "        maxi = freq_to_letter_dict[note][\"maxi\"]\n",
    "        for time in freq_dict:\t\t\t\t\t   #For each duration, assign a note based on frequency\n",
    "            if mini<=freq_dict[time] and freq_dict[time] < maxi:   #If frequency between min/max of a note, assign that note\n",
    "                time_note[time] = note   \t\t\t   #Make a new dictionary of form {duration:note}\n",
    "        else:\n",
    "            continue\t\t\t\t\t\t   #If it doesn't match the frequency, look thru more notes"
   ]
  },
  {
   "cell_type": "markdown",
   "metadata": {},
   "source": [
    "Assigning variables for the duration into consideration"
   ]
  },
  {
   "cell_type": "code",
   "execution_count": 8,
   "metadata": {},
   "outputs": [],
   "source": [
    "start = 0\n",
    "start_time=0\n",
    "end_time=0\n",
    "start_note = ''\n",
    "end_note = ''\n",
    "\n",
    "el_listerino = []"
   ]
  },
  {
   "cell_type": "markdown",
   "metadata": {},
   "source": [
    "For each time in the sorted duration:note dictionary check if long or short"
   ]
  },
  {
   "cell_type": "code",
   "execution_count": 9,
   "metadata": {},
   "outputs": [],
   "source": [
    "for time in sorted(time_note, key=float):\n",
    "    start = time\n",
    "    note = time_note[time]\n",
    "    if start_time == 0:\t\t\t#For the very first note in the song\n",
    "        start_time = start\t\t#Reset all variables to this baseline note\n",
    "        start_note = note\n",
    "        end_time = time\n",
    "    else:    \t\t\t\t#If not first note\n",
    "        if note == start_note:\t\t#but if same as the last note played\n",
    "            end_time = time\t\t#increase the end time\n",
    "        else:         \t\t\t#If it is a different note than last played\n",
    "            tiny_list = []\t\t\t#Make a list every time to create a list of lists later - to keep order\n",
    "            tiny_list.append(float(end_time) - float(start_time))\t#calculate the duration of a note (end-start)\n",
    "            tiny_list.append(start_note)\t\t\t\t#for each, create the [duration,note] list\n",
    "            el_listerino.append(tiny_list)\t\t\t\t#append [duration,note] list into the bigger one\n",
    "            start_note = note\t\t\t#Reset all variables \n",
    "            start_time = time\n",
    "            end_time = time"
   ]
  },
  {
   "cell_type": "code",
   "execution_count": 10,
   "metadata": {},
   "outputs": [],
   "source": [
    "duration_list = []\t\t\t \n",
    "for duration in el_listerino:\t\t\t#To calculate the median, we need to make another list\n",
    "    duration_list.append(duration[0])\n",
    "\n",
    "least = min(duration_list)\t\t\t#Least and most were used to sanity check the median\n",
    "most = max(duration_list)\n",
    "middle = statistics.median(duration_list)\n",
    "\n",
    "\n",
    "notes_list = []\t\t\t\t#The final countdown\n",
    "for line in el_listerino:\n",
    "\tnote, extra  = line[1].split(\"_\")\t#In the ref, the notes have \"_\" appended. Split here into proper notation\n",
    "\tduration = line[0]\t\t\t\n",
    "\tif duration > middle:\t\t\t#If the duration is longer than the median, consider it a whole note\n",
    "\t\tif note.endswith(\"3\"):\n",
    "\t\t\tnote = note.replace(\"3\",\"4\")\t#Change from reference notation into next script's notation\n",
    "\t\t\tnotes_list.append(note)\n",
    "\t\telse:\t\t\t\t#If the duration is shorter or equal to the median, consider half note\n",
    "\t\t\tnote = note+\"2\"\t\t#Change from reference notation into the next script's notation\n",
    "\t\t\tnotes_list.append(note)\n",
    "\telse:\n",
    "\t\tnotes_list.append(note)\t#This is the same notation as the next script, so leave\n",
    "\n",
    "\n",
    "final_notes_list = []\t\t\t\t\n",
    "for note in notes_list:\n",
    "\tif note == \"R\":\t\t\t\t#Change rest into the next scipt's notation\n",
    "\t\tnote = \" \"\n",
    "\t\tfinal_notes_list.append(note)\n",
    "\telif note == \"R2\":\t\t\t#Change long rest into the next script's notation\n",
    "\t\tnote = \" 2\"\n",
    "\t\tfinal_notes_list.append(note)\n",
    "\telse:\n",
    "\t\tfinal_notes_list.append(note)\t#If not a rest, leave it"
   ]
  },
  {
   "cell_type": "markdown",
   "metadata": {},
   "source": [
    "### 1.2) Conversion of notes to nucleotides"
   ]
  },
  {
   "cell_type": "markdown",
   "metadata": {},
   "source": [
    "Notes Dictionary: Notes/Keys are assigned a numeric value. The '2' version of each key is designated as the half note"
   ]
  },
  {
   "cell_type": "code",
   "execution_count": 11,
   "metadata": {},
   "outputs": [],
   "source": [
    "key_dict = {'C':'1', 'C2':'2', 'C#':'3', 'Db':'3', 'C#2':'4', 'Db2':'4', 'D':'5', 'D2':'6', 'D#':'7', 'Eb':'7', 'D#2':'8', 'Eb2':'8', 'E':'9', 'E2': '10', 'F':'11', 'F2':'12', 'F#':'13', 'Gb':'13', 'F#2':'14', 'Gb2':'14', 'G':'15', 'G2':'16', 'G#':'17', 'Ab':'17', 'G#2':'18', 'Ab2':'18', 'A':'19', 'A2':'20', 'A#':'21', 'Bb':'21', 'A#2':'22', 'Bb2':'22', 'B':'23', 'B2':'24', 'C3':'25', 'C4':'26', 'C#3':'27', 'Db3':'27', 'C#4':'28', 'Db4':'28', 'D3':'29', 'D4':'30', 'D#3':'31', 'Eb3':'31', 'D#4':'32', 'Eb4':'32', 'E3':'33', 'E4':'34', 'F3':'35', 'F4':'36', 'F#3':'37', 'Gb3':'37', 'F#4':'38', 'Gb4':'38', 'G3':'39', 'G4':'40', ' ':'41', ' 2':'42'}"
   ]
  },
  {
   "cell_type": "markdown",
   "metadata": {},
   "source": [
    "Conversion of notes to amino acids: This dictionary accounts for amino acid frequency: Most frequent AA is on the white keys. "
   ]
  },
  {
   "cell_type": "code",
   "execution_count": 12,
   "metadata": {},
   "outputs": [],
   "source": [
    "key_to_codon_dict = {'1':['R1', 'R2', 'R3'], '2':['R4', 'R5', 'R6'], '3':['F1'], '4':['F2'], '5':['N1'], '6':['N2'], '7':['P1', 'P2'], '8':['P3', 'P4'], '9':['D1'], '10':['D2'], '11':['C1'], '12':['C2'], '13':['S1', 'S2', 'S3'], '14':['S4', 'S5', 'S6'], '15':['Q1'], '16':['Q2'], '17':['T1', 'T2'], '18':['T3', 'T4'], '19':['E1'], '20':['E2'], '21':['W'], '22':['W'], '23':['G1', 'G2'], '24':['G3', 'G4'], '25':['H1'], '26':['H2'], '27':['Y1'], '28':['Y2'], '29':['I1', 'I2'], '30':['I3'], '31':['V1', 'V2'], '32':['V3', 'V4'], '33':['L1', 'L2', 'L3'], '34':['L4', 'L5', 'L6'], '35':['K1'], '36':['K2'], '37':['Z1', 'Z2'], '38':['Z3'], '39':['M'], '40':['M'], '41':['A1', 'A2'], '42':['A3', 'A4']}"
   ]
  },
  {
   "cell_type": "markdown",
   "metadata": {},
   "source": [
    "Conversion of amino acids to nucleotide triplets: stop codon was assigned Z"
   ]
  },
  {
   "cell_type": "code",
   "execution_count": 13,
   "metadata": {},
   "outputs": [],
   "source": [
    "codon_to_nt_dict = {'F1':'TTT', 'F2':'TTC', 'L1':'TTA', 'L2':'TTG', 'L3':'CTT', 'L4':'CTC', 'L5':'CTA', 'L6':'CTG', 'I1':'ATT', 'I2':'ATC', 'I3': 'ATA', 'M': 'ATG', 'V1': 'GTT', 'V2':'GTC', 'V3':'GTA', 'V4':'GTG', 'S1':'TCT', 'S2':'TCC', 'S3':'TCA', 'S4':'TCG', 'S5':'AGT', 'S6':'AGC', 'P1':'CCT', 'P2':'CCC', 'P3':'CCA', 'P4':'CCG', 'T1':'ACT', 'T2':'ACC', 'T3':'ACA', 'T4':'ACG', 'A1':'GCT', 'A2':'GCC', 'A3':'GCA', 'A4':'GCG', 'Y1':'TAT', 'Y2': 'TAC', 'Z1':'TAA', 'Z2':'TAG', 'Z3':'TGA', 'H1':'CAT', 'H2':'CAC', 'Q1':'CAA', 'Q2':'CAG', 'N1':'AAT', 'N2':'AAC', 'K1':'AAA', 'K2':'AAG', 'D1':'GAT', 'D2':'GAC', 'E1':'GAA', 'E2':'GAG', 'C1':'TGT', 'C2':'TGC', 'W':'TGG', 'R1':'CGT', 'R2':'CGC', 'R3':'CGA', 'R4':'CGG', 'R5':'AGA', 'R6':'AGG', 'G1':'GGT', 'G2':'GGC', 'G3':'GGA', 'G4':'GGG'}"
   ]
  },
  {
   "cell_type": "markdown",
   "metadata": {},
   "source": [
    "Function to convert a song input into nucleotide sequence"
   ]
  },
  {
   "cell_type": "code",
   "execution_count": 14,
   "metadata": {},
   "outputs": [
    {
     "name": "stdout",
     "output_type": "stream",
     "text": [
      "GCGCAGGCGCAAGCCGACGCAGATTTTCGCAGGGCTCGTACTTGCCAGTCCTGCGACTTTAGGGACTGCCCTAATCCTGACTTTAGAGAAGGCCAGGACTTTCGAAGAGGCTGCCAGTCTTGCGACCCTAGAGACTGCCCCAATCCCGACTTTAGAGAAGGCCAGGCTCAA\n"
     ]
    }
   ],
   "source": [
    "import random\n",
    "\n",
    "numbers =[]\n",
    "note_to_codons = []\n",
    "for note in final_notes_list:\n",
    "    number = key_dict[note]\n",
    "    numbers.append(number)\n",
    "\n",
    "for num in numbers:\n",
    "    codons = key_to_codon_dict[num]\n",
    "    if len(codons) ==1:\n",
    "        associated_codon = key_to_codon_dict[num][0]\n",
    "        note_to_codons.append(associated_codon)\n",
    "    elif len(codons) >1:\n",
    "        random_number = int(random.randrange(0, len(codons)))\n",
    "        associated_codon = key_to_codon_dict[num][random_number]\n",
    "        note_to_codons.append(associated_codon)\n",
    "#print(note_to_codons)\n",
    "\n",
    "sequence1 = ''\n",
    "for aa in note_to_codons:\n",
    "    nt = codon_to_nt_dict[aa]\n",
    "    sequence1+=nt"
   ]
  },
  {
   "cell_type": "markdown",
   "metadata": {},
   "source": [
    "Make a fasta file containing nucleotide sequence"
   ]
  },
  {
   "cell_type": "code",
   "execution_count": 19,
   "metadata": {
    "scrolled": true
   },
   "outputs": [
    {
     "name": "stdout",
     "output_type": "stream",
     "text": [
      ">SuperMario\t1989\tPop\n",
      "GCGCAGGCGCAAGCCGACGCAGATTTTCGCAGGGCTCGTACTTGCCAGTCCTGCGACTTTAGGGACTGCCCTAATCCTGACTTTAGAGAAGGCCAGGACTTTCGAAGAGGCTGCCAGTCTTGCGACCCTAGAGACTGCCCCAATCCCGACTTTAGAGAAGGCCAGGCTCAA\n"
     ]
    },
    {
     "data": {
      "text/plain": [
       "192"
      ]
     },
     "execution_count": 19,
     "metadata": {},
     "output_type": "execute_result"
    }
   ],
   "source": [
    "fasta_file = '>' + songname + '\\t' + year + '\\t' + genre + '\\n' + sequence1\n",
    "open_fasta = open('fasta_file.fasta','w')\n",
    "open_fasta.write(fasta_file)"
   ]
  },
  {
   "cell_type": "markdown",
   "metadata": {},
   "source": [
    "# 2) Blasting of DNA "
   ]
  },
  {
   "cell_type": "markdown",
   "metadata": {},
   "source": [
    "Import Packages"
   ]
  },
  {
   "cell_type": "code",
   "execution_count": 20,
   "metadata": {},
   "outputs": [],
   "source": [
    "import time\n",
    "import os\n",
    "import re\n",
    "from Bio import SearchIO\n",
    "import webbrowser\n",
    "from fpdf import FPDF\n",
    "from IPython.display import Image"
   ]
  },
  {
   "cell_type": "markdown",
   "metadata": {},
   "source": [
    "Run Blast from command line"
   ]
  },
  {
   "cell_type": "code",
   "execution_count": 24,
   "metadata": {},
   "outputs": [
    {
     "data": {
      "text/plain": [
       "0"
      ]
     },
     "execution_count": 24,
     "metadata": {},
     "output_type": "execute_result"
    }
   ],
   "source": [
    "cmd = \"blastn -query fasta_file.fasta -task 'blastn-short' -max_hsps 1 -db final_all_cds.fna -out test6.txt\"\n",
    "os.system(cmd)"
   ]
  },
  {
   "cell_type": "markdown",
   "metadata": {},
   "source": [
    "Open and parse Blast file "
   ]
  },
  {
   "cell_type": "code",
   "execution_count": 25,
   "metadata": {},
   "outputs": [
    {
     "name": "stdout",
     "output_type": "stream",
     "text": [
      "Query name: SuperMario\n",
      "Query length: 171\n",
      "Organism: Vitis vinifera\n",
      "Gene: LOC100259870\n",
      "E-value: 3.8\n",
      "Hit start: 1005\n",
      "Hit end:  1022\n",
      "Nucleotide match:  17\n"
     ]
    }
   ],
   "source": [
    "filename = 'test6.txt' #we will have the general output from the blast be blastoutput.txt that way it is easy to bring in\n",
    "\n",
    "for QueryResult in SearchIO.parse(filename, 'blast-text'):#parses the query name\n",
    "    print('Query name:',QueryResult.id)#prints the query name\n",
    "    print('Query length:',QueryResult.seq_len)\n",
    "query_name = 'Query name: '+str(QueryResult.id)\n",
    "query_length = 'Query length: '+str(QueryResult.seq_len)\n",
    "\n",
    "for Hit in SearchIO.read(filename, 'blast-text'):#prints out the top hit id and description\n",
    "    top_hit = Hit.description\n",
    "    #print(top_hit)\n",
    "    for found in re.finditer(r'(^\\S?.+)\\s(\\[gene=)(\\w+.?\\w)',top_hit):\n",
    "        organism = found.group(1)\n",
    "        gene = found.group(3)\n",
    "    break\n",
    "else:\n",
    "    print(\"no hits\")\n",
    "    organism = \"no match organism\"\n",
    "    gene = \"no match gene\"\n",
    "\n",
    "print('Organism:',organism)\n",
    "hit_organism = 'Organism: '+str(organism)\n",
    "print('Gene:',gene)\n",
    "hit_gene = 'Gene: '+str(gene)\n",
    "\n",
    "for alignment in SearchIO.read(filename, 'blast-text'):\n",
    "        for hsp in alignment.hsps:#prints out the hsp evalue score\n",
    "                evalue = 'E-value: '+str(hsp.evalue)\n",
    "                print('E-value:',hsp.evalue)\n",
    "                hit_start = 'Hit start: '+str(hsp.hit_start)\n",
    "                print('Hit start:', hsp.hit_start)\n",
    "                hit_end = 'Hit end:'+str(hsp.hit_end)\n",
    "                print('Hit end: ', hsp.hit_end)\n",
    "                hit_identity = 'Nucleotide match: '+str(hsp.ident_num)\n",
    "                print('Nucleotide match: ',hsp.ident_num)\n",
    "        break\n",
    "else:\n",
    "    print(\"no evalue\")\n",
    "    evalue = \"no evalue\""
   ]
  },
  {
   "cell_type": "markdown",
   "metadata": {},
   "source": [
    "Create output file from Blast search"
   ]
  },
  {
   "cell_type": "code",
   "execution_count": 26,
   "metadata": {},
   "outputs": [
    {
     "data": {
      "text/html": [
       "\n",
       "        <iframe\n",
       "            width=\"600\"\n",
       "            height=\"700\"\n",
       "            src=\"http://djmm.programmingforbiology.org/blast_pdfs/Blast_visualization1540825047.pdf\"\n",
       "            frameborder=\"0\"\n",
       "            allowfullscreen\n",
       "        ></iframe>\n",
       "        "
      ],
      "text/plain": [
       "<IPython.lib.display.IFrame at 0x7f91a01784e0>"
      ]
     },
     "execution_count": 26,
     "metadata": {},
     "output_type": "execute_result"
    }
   ],
   "source": [
    "chlamydia = \"    ,---. \\n   / . . \\ \\n   |  _  | \\n    \\     /  \\n    '___'  \"\n",
    "#print(chlamydia)\n",
    "\n",
    "grapes = \"    \\-\\       \\n   __\\ \\ ,--.  \\n  (``)\\ \\(  )-,  \\n ( `` )(```)   ) \\n  `--',.`-'(```) \\n  (   X    )`-`,  \\n   `-` `--`(   )  \\n       (   )`-`,  \\n        `-`(   ) \\n            `-`   \"\n",
    "\n",
    "cat = \"                         _\\n                        / )\\n                       ( (\\n       A.-.A   .-''-.   ) )\\n     / , , \\_/        \\\\/ /\\n     \\ =t= ;       /    /\\n      `--,\\'  .__.|     /\\n          || |    \\\\\\\\  | \\n         ((,_|    ((,_\\\\\"\n",
    "\n",
    "c_elegans = \"    ____\\n   /    \\ \\n  '_,-,  \\ \\n      /   |\\n     /   /\\n    |   |     __    /\\\\\\n    (    \\___/  \\___| |\\n     \\         _      /\\n      \\_______/ \\____/\"\n",
    "\n",
    "mouse = \"  (\\__/)   \\n /O O `.  \\n   {O__,   \\    {\\n       / .  . )    \\ \\n       |-| '-' \\    } \\n      .(   _(   )_.'  \\n  '---.~_ _ _&  \"\n",
    "\n",
    "fish = \"       o                 o\\n                  o    \\n         o   ______      o \\n           _/  (   \\_  \\n _       _/  (       \\_  O  \\n| \\_   _/  (   (    0  \\  \\n|== \\_/  (   (          | \\n|=== _ (   (   (        |\\n|==_/ \\_ (   (          |\\n|_/     \\_ (   (    \\__/\\n          \\_ (      _/\\n            |  |___/\\n           /__/\"\n",
    "\n",
    "sadness = \"No match organism, no picture for you\"\n",
    "\n",
    "if organism == \"Chlamydia abortus\":\n",
    "    picture = chlamydia\n",
    "    red =255\n",
    "    green =102\n",
    "    blue =175\n",
    "    alignment = \"C\"\n",
    "elif organism == \"Felis_catus\":\n",
    "    picture = cat\n",
    "    red = 255\n",
    "    green =153\n",
    "    blue =51\n",
    "    alignment = \"C\"\n",
    "elif organism == \"Caenorhabditis elegans\":\n",
    "    picture = c_elegans\n",
    "    red = 204\n",
    "    green =204\n",
    "    blue =0\n",
    "    alignment = \"L\"\n",
    "elif organism == \"Vitis vinifera\":\n",
    "    picture = grapes\n",
    "    red = 127\n",
    "    green = 0\n",
    "    blue = 255\n",
    "    alignment = \"L\"\n",
    "elif organism == \"Danio rerio\":\n",
    "    picture = fish\n",
    "    red =51\n",
    "    green =153\n",
    "    blue =255\n",
    "    alignment = \"L\"\n",
    "elif organism == \"Mus musculus\":\n",
    "    picture = mouse\n",
    "    red =160\n",
    "    green = 160\n",
    "    blue = 160\n",
    "    alignment = \"C\"\n",
    "else:\n",
    "    picture = sadness\n",
    "    red =255\n",
    "    green =0\n",
    "    blue =0\n",
    "    alignment = \"L\"\n",
    "\n",
    "pdf = FPDF()\n",
    "pdf.add_page()\n",
    "pdf.set_font('Courier',size=24)\n",
    "pdf.cell(100,20, txt = query_name, ln=1, align=\"L\")\n",
    "pdf.cell(100,20, txt = query_length, ln=1, align=\"L\")\n",
    "pdf.cell(100,20, txt = hit_organism, ln=1, align=\"L\")\n",
    "pdf.cell(100,20, txt = hit_gene, ln=1, align=\"L\")\n",
    "pdf.cell(100,20, txt = evalue, ln=1, align=\"L\")\n",
    "pdf.set_text_color(int(red),int(green),int(blue))\n",
    "pdf.multi_cell(200,10, txt = picture, align=alignment)\n",
    "\n",
    "\n",
    "ts = str(int(time.time()))\n",
    "blast_dir = '/var/www/html/blast_pdfs'\n",
    "blast_filename = blast_dir + \"/Blast_visualization\" + ts + \".pdf\"\n",
    "pdf.output(blast_filename)\n",
    "\n",
    "test = \"http://djmm.programmingforbiology.org/blast_pdfs/Blast_visualization\" + ts + \".pdf\"\n",
    "\n",
    "from IPython.display import IFrame\n",
    "IFrame(test, width=600, height=700)\n",
    "\n",
    "#\n",
    "\n",
    "#print(\"Your run is complete; please see PDF!\")"
   ]
  },
  {
   "cell_type": "markdown",
   "metadata": {},
   "source": [
    "# 3) PCA to determine organism that music might relate to"
   ]
  },
  {
   "cell_type": "markdown",
   "metadata": {},
   "source": [
    "### 3.1) Dictionaries containing counts of nt and aa   "
   ]
  },
  {
   "cell_type": "markdown",
   "metadata": {},
   "source": [
    "Creation of fasta file with header containing song name, organism (from Blast), year song was released and genre of song"
   ]
  },
  {
   "cell_type": "code",
   "execution_count": 108,
   "metadata": {},
   "outputs": [
    {
     "name": "stdout",
     "output_type": "stream",
     "text": [
      ">SuperMario\tSuperMario\t1938\tDance\n",
      "GCGCAGGCGCAAGCCGACGCAGATTTTCGCAGGGCTCGTACTTGCCAGTCCTGCGACTTTAGGGACTGCCCTAATCCTGACTTTAGAGAAGGCCAGGACTTTCGAAGAGGCTGCCAGTCTTGCGACCCTAGAGACTGCCCCAATCCCGACTTTAGAGAAGGCCAGGCTCAA\n",
      "\n"
     ]
    },
    {
     "data": {
      "text/plain": [
       "206"
      ]
     },
     "execution_count": 108,
     "metadata": {},
     "output_type": "execute_result"
    }
   ],
   "source": [
    "music_to_fasta = '>' + songname + '\\t' + songname +'\\t' + year + '\\t' + genre + '\\n' + sequence1 + '\\n'\n",
    "file = open('/projects/djmm/spa/music_to_DNA.fasta', 'w')\n",
    "\n",
    "file.write(music_to_fasta)"
   ]
  },
  {
   "cell_type": "markdown",
   "metadata": {},
   "source": [
    "Reference fasta file"
   ]
  },
  {
   "cell_type": "markdown",
   "metadata": {},
   "source": [
    "Combine fasta files with reference fasta file"
   ]
  },
  {
   "cell_type": "code",
   "execution_count": 111,
   "metadata": {},
   "outputs": [],
   "source": [
    "! cat music_to_DNA.fasta DNA_sequences_from_organism_for_PCAplot.fasta > combined.fasta"
   ]
  },
  {
   "cell_type": "markdown",
   "metadata": {},
   "source": [
    "Opening of fasta file input and creation of dictionaries "
   ]
  },
  {
   "cell_type": "code",
   "execution_count": 112,
   "metadata": {},
   "outputs": [],
   "source": [
    "#import sys\n",
    "\n",
    "#fasta_sequence = sys.argv[1]\n",
    "#open_fasta_sequence = open (fasta_sequence , \"r\")\n",
    "\n",
    "open_fasta_sequence = open('/projects/djmm/spa/combined.fasta', \"r\")\n",
    "\n",
    "nucleotide_dict = {}\n",
    "nucleotide_comp = {}\n",
    "amino_acid_comp ={}\n",
    "seq_id = ''\n",
    "final_dict ={}"
   ]
  },
  {
   "cell_type": "markdown",
   "metadata": {},
   "source": [
    "Dictionary with nucleotide counts"
   ]
  },
  {
   "cell_type": "code",
   "execution_count": 113,
   "metadata": {},
   "outputs": [],
   "source": [
    "import re\n",
    "\n",
    "for line in open_fasta_sequence:\n",
    "    line = line.rstrip()\n",
    "    if line.startswith('>'):\n",
    "        for (seq_id, organism, year, genre) in re.findall(r'>(\\S+)\\s(\\w+\\s?\\w+)\\s(\\d+)\\s(\\w+)', line):\n",
    "            nucleotide_dict[seq_id] = ''\n",
    "    else:\n",
    "        if seq_id in nucleotide_dict:\n",
    "            nucleotide_dict[seq_id] += line\n",
    "        else:\n",
    "            nucleotide_dict[seq_id] = line\n",
    "#print(nucleotide_dict)\n",
    "#create a dictioary with nucleotide count\n",
    "for seq_id in nucleotide_dict:\n",
    "    sequence = nucleotide_dict[seq_id]\n",
    "    a_count = sequence.count('A')\n",
    "    c_count = sequence.count('C')\n",
    "    g_count = sequence.count('G')\n",
    "    t_count = sequence.count('T')\n",
    "    nucleotide_comp[seq_id] = {'nucA':a_count,'nucC':c_count,'nucG':g_count,'nucT':t_count}"
   ]
  },
  {
   "cell_type": "markdown",
   "metadata": {},
   "source": [
    "Dictinoary with amino acid composition"
   ]
  },
  {
   "cell_type": "code",
   "execution_count": 114,
   "metadata": {},
   "outputs": [
    {
     "name": "stderr",
     "output_type": "stream",
     "text": [
      "/usr/local/anaconda/lib/python3.7/site-packages/Bio/Seq.py:2576: BiopythonWarning:\n",
      "\n",
      "Partial codon, len(sequence) not a multiple of three. Explicitly trim the sequence or add trailing N before translation. This may become an error in future.\n",
      "\n"
     ]
    }
   ],
   "source": [
    "from Bio.Seq import Seq\n",
    "from Bio.SeqUtils.ProtParam import ProteinAnalysis\n",
    "\n",
    "for seq_id in nucleotide_dict:\n",
    "    sequence = nucleotide_dict[seq_id]\n",
    "    seqobj = Seq(sequence)\n",
    "    seq_str=str(seqobj)\n",
    "    protein = seqobj.translate()\n",
    "    prot_str = str(protein)\n",
    "    amino_acid_comp[seq_id] = prot_str\n",
    "\n",
    "for seq_id in amino_acid_comp:\n",
    "    prot_str = amino_acid_comp[seq_id]\n",
    "    prot_obj = ProteinAnalysis(prot_str)\n",
    "    count_aa = prot_obj.count_amino_acids()\n",
    "    amino_acid_comp[seq_id] = count_aa"
   ]
  },
  {
   "cell_type": "markdown",
   "metadata": {},
   "source": [
    "Dictionary with organism name"
   ]
  },
  {
   "cell_type": "code",
   "execution_count": 115,
   "metadata": {},
   "outputs": [
    {
     "name": "stdout",
     "output_type": "stream",
     "text": [
      "{'SuperMario': 'SuperMario', 'unc119a': 'Danio rerio', 'unc119b': 'Danio rerio', 'unc119c': 'Danio rerio', 'bmp2a': 'Mus musculus', 'bmp3': 'Mus musculus', 'bmp4': 'Mus musculus', 'srh-1': 'Caenorhabditis elegans', 'srh-4': 'Caenorhabditis elegans', 'srh-7': 'Caenorhabditis elegans', 'rab2a': 'Felis_catus', 'rab2b': 'Felis_catus', 'rab4': 'Felis_catus', 'auxin1': 'Vitis vinifera', 'auxin2': 'Vitis vinifera', 'auxin3': 'Vitis vinifera', 'ileS': 'Chlamydia abortus', 'serS': 'Chlamydia abortus', 'proS': 'Chlamydia abortus'}\n"
     ]
    }
   ],
   "source": [
    "open_fasta_sequence = open('/projects/djmm/spa/combined.fasta', \"r\")\n",
    "\n",
    "organism_dict = {}\n",
    "\n",
    "for line in open_fasta_sequence:\n",
    "    line = line.rstrip()\n",
    "    if line.startswith('>'):\n",
    "        for (seq_id, organism, year, genre) in re.findall(r'>(\\S+)\\s(\\w+\\s?\\w+)\\s(\\d+)\\s(\\w+)', line):\n",
    "            organism_dict[seq_id] = organism"
   ]
  },
  {
   "cell_type": "markdown",
   "metadata": {},
   "source": [
    "### 3.2) Dataframes containing nt and aa counts and organism of DNA strings"
   ]
  },
  {
   "cell_type": "code",
   "execution_count": 116,
   "metadata": {},
   "outputs": [
    {
     "name": "stdout",
     "output_type": "stream",
     "text": [
      "   SuperMario  unc119a  unc119b  unc119c  bmp2a  bmp3  bmp4  srh-1  srh-4  \\\n",
      "A           6        7        9        3     11     9     8      2      2   \n",
      "C           6        2        2        1      1     2     1      8     12   \n",
      "D           9        3        5        2      4     4     3      2      5   \n",
      "E           2        4        5        4      6     3    13      2      7   \n",
      "F           5        5        2        3      4     2     3     10      8   \n",
      "G           3        3        3        6      8    12    12      4      8   \n",
      "H           0        7        7        7      4     3     5      3      4   \n",
      "I           0        1        1        2      1     0     4      7      7   \n",
      "K           0        1        0        0      4     1     4      3      3   \n",
      "L           0       12       15       11     18    14    14      5      8   \n",
      "M           0        0        0        0      3     2     5      3      2   \n",
      "N           2        3        0        3      1     3     2     13     10   \n",
      "P           5        5        8        9     11    10     7      1      5   \n",
      "Q           7        9        9        8      3     5     8      0      0   \n",
      "R           9       12        8       11     12    11    12      3      4   \n",
      "S           2        3        6        7     10     9    10     15     13   \n",
      "T           1        4        0        5      3     5     4      4      3   \n",
      "V           0        6        4        4      8     3     6      8      4   \n",
      "W           0        3        1        1      0     2     0      3      3   \n",
      "Y           0        0        1        1      2     3     3      7      3   \n",
      "\n",
      "   srh-7  rab2a  rab2b  rab4  auxin1  auxin2  auxin3  ileS  serS  proS  \n",
      "A      2      8     11    12       9       8       9    10     9    14  \n",
      "C      6      1      1     2       4       2       3     2     3     1  \n",
      "D      2      8      7     9       9       3       6    12    12     8  \n",
      "E      6      3     13     8       6       5       9    19    15    23  \n",
      "F      6      6      6     9       2       6       7    15     4    12  \n",
      "G      5     10      8    11      13      12      10    20     7    13  \n",
      "H      2      3      4     2       0       6       3     6     6     4  \n",
      "I     13     12     11    10       2       7       3     7     9    14  \n",
      "K      3      6      7    10      14       7       9    13    20    18  \n",
      "L      6     11      9    13       7      17      10    15    32    23  \n",
      "M      1      4      4     3       2       2       4     4     4     7  \n",
      "N     14      4      7     8       1      11       8     6     7     5  \n",
      "P      7      1      0     0       9      16       4    10    14     7  \n",
      "Q      2      6      6     6       3       7       3     4    15    11  \n",
      "R      6      8     11     8       6       5       8    12     8    12  \n",
      "S     13      6     10    10      14      14      10    14    10    14  \n",
      "T      4     10      8    11       6      13       6    12     9    10  \n",
      "V      4      5      6     8      13       2       9    20    10     9  \n",
      "W      1      2      2     2       2       0       1     7     3     4  \n",
      "Y      7      6      4     6       3       4       3    12     3    11  \n",
      "             A   C   D   E   F   G  H   I   K   L           ...             S  \\\n",
      "SuperMario   6   6   9   2   5   3  0   0   0   0           ...             2   \n",
      "unc119a      7   2   3   4   5   3  7   1   1  12           ...             3   \n",
      "unc119b      9   2   5   5   2   3  7   1   0  15           ...             6   \n",
      "unc119c      3   1   2   4   3   6  7   2   0  11           ...             7   \n",
      "bmp2a       11   1   4   6   4   8  4   1   4  18           ...            10   \n",
      "bmp3         9   2   4   3   2  12  3   0   1  14           ...             9   \n",
      "bmp4         8   1   3  13   3  12  5   4   4  14           ...            10   \n",
      "srh-1        2   8   2   2  10   4  3   7   3   5           ...            15   \n",
      "srh-4        2  12   5   7   8   8  4   7   3   8           ...            13   \n",
      "srh-7        2   6   2   6   6   5  2  13   3   6           ...            13   \n",
      "rab2a        8   1   8   3   6  10  3  12   6  11           ...             6   \n",
      "rab2b       11   1   7  13   6   8  4  11   7   9           ...            10   \n",
      "rab4        12   2   9   8   9  11  2  10  10  13           ...            10   \n",
      "auxin1       9   4   9   6   2  13  0   2  14   7           ...            14   \n",
      "auxin2       8   2   3   5   6  12  6   7   7  17           ...            14   \n",
      "auxin3       9   3   6   9   7  10  3   3   9  10           ...            10   \n",
      "ileS        10   2  12  19  15  20  6   7  13  15           ...            14   \n",
      "serS         9   3  12  15   4   7  6   9  20  32           ...            10   \n",
      "proS        14   1   8  23  12  13  4  14  18  23           ...            14   \n",
      "\n",
      "             T   V  W   Y nucA nucC nucG nucT                organism  \n",
      "SuperMario   1   0  0   0   39   51   47   34              SuperMario  \n",
      "unc119a      4   6  3   0   77   71   63   75             Danio rerio  \n",
      "unc119b      0   4  1   1   69   76   66   75             Danio rerio  \n",
      "unc119c      5   4  1   1   82   72   60   72             Danio rerio  \n",
      "bmp2a        3   8  0   2   60  122  103   58            Mus musculus  \n",
      "bmp3         5   3  2   3   59  100  103   48            Mus musculus  \n",
      "bmp4         4   6  0   3   85   98  122   68            Mus musculus  \n",
      "srh-1        4   8  3   7  102   43   64  125  Caenorhabditis elegans  \n",
      "srh-4        3   4  3   3   95   53   72  120  Caenorhabditis elegans  \n",
      "srh-7        4   4  1   7  109   59   56  116  Caenorhabditis elegans  \n",
      "rab2a       10   5  2   6  107   74   83   98             Felis_catus  \n",
      "rab2b        8   6  2   4  122   94  100   89             Felis_catus  \n",
      "rab4        11   8  2   6  141   81  106  117             Felis_catus  \n",
      "auxin1       6  13  2   3   88   85  134   70          Vitis vinifera  \n",
      "auxin2      13   2  0   4  115  154   72  101          Vitis vinifera  \n",
      "auxin3       6   9  1   3   97   86  108   85          Vitis vinifera  \n",
      "ileS        12  20  7  12  180  106  170  204       Chlamydia abortus  \n",
      "serS         9  10  3   3  202  125  107  166       Chlamydia abortus  \n",
      "proS        10   9  4  11  212  143  135  170       Chlamydia abortus  \n",
      "\n",
      "[19 rows x 25 columns]\n"
     ]
    }
   ],
   "source": [
    "import pandas as pd\n",
    "import numpy as np\n",
    "\n",
    "aa_df = pd.DataFrame.from_dict(amino_acid_comp)\n",
    "print(aa_df)\n",
    "nt_df = pd.DataFrame.from_dict(nucleotide_comp)\n",
    "organism_df = pd.Series(organism_dict).to_frame().transpose()\n",
    "organism_df = organism_df.rename({0: 'organism'}, axis='index')\n",
    "\n",
    "seq_df = pd.concat([aa_df, nt_df, organism_df]).transpose()"
   ]
  },
  {
   "cell_type": "markdown",
   "metadata": {},
   "source": [
    "### 3.3) Calculation and plotting of principal components "
   ]
  },
  {
   "cell_type": "markdown",
   "metadata": {},
   "source": [
    "Standardization of data frame onto unit scale (mean=0, variance=1)"
   ]
  },
  {
   "cell_type": "code",
   "execution_count": 117,
   "metadata": {},
   "outputs": [
    {
     "name": "stderr",
     "output_type": "stream",
     "text": [
      "/usr/local/anaconda/lib/python3.7/site-packages/sklearn/utils/validation.py:475: DataConversionWarning:\n",
      "\n",
      "Data with input dtype object was converted to float64 by StandardScaler.\n",
      "\n"
     ]
    }
   ],
   "source": [
    "from sklearn.preprocessing import StandardScaler\n",
    "\n",
    "features = list(seq_df)\n",
    "features.remove('organism')\n",
    "\n",
    "x = seq_df.loc[:, features].values\n",
    "\n",
    "y = seq_df.loc[:,['organism']].values\n",
    "\n",
    "x_stand = StandardScaler().fit_transform(x)"
   ]
  },
  {
   "cell_type": "markdown",
   "metadata": {},
   "source": [
    "Calculation of principal components"
   ]
  },
  {
   "cell_type": "code",
   "execution_count": 119,
   "metadata": {},
   "outputs": [
    {
     "name": "stdout",
     "output_type": "stream",
     "text": [
      "                 PC1       PC2                organism\n",
      "SuperMario -5.201626 -0.324265              SuperMario\n",
      "unc119a    -2.839733 -1.882307             Danio rerio\n",
      "unc119b    -3.205728 -2.337991             Danio rerio\n",
      "unc119c    -3.109050 -1.590682             Danio rerio\n",
      "bmp2a      -1.048801 -2.556608            Mus musculus\n",
      "bmp3       -1.720981 -1.800925            Mus musculus\n",
      "bmp4       -0.158961 -2.174578            Mus musculus\n",
      "srh-1      -1.546349  5.136951  Caenorhabditis elegans\n",
      "srh-4      -1.778055  4.055519  Caenorhabditis elegans\n",
      "srh-7      -1.808322  3.710750  Caenorhabditis elegans\n",
      "rab2a       0.180590  0.369826             Felis_catus\n",
      "rab2b       0.999113 -0.129466             Felis_catus\n",
      "rab4        1.933294  0.937467             Felis_catus\n",
      "auxin1      0.228791  0.095137          Vitis vinifera\n",
      "auxin2      0.621274 -0.352591          Vitis vinifera\n",
      "auxin3      0.075119  0.456495          Vitis vinifera\n",
      "ileS        7.301155  1.003523       Chlamydia abortus\n",
      "serS        4.146743 -1.970278       Chlamydia abortus\n",
      "proS        6.931527 -0.645979       Chlamydia abortus\n"
     ]
    }
   ],
   "source": [
    "from sklearn.decomposition import PCA\n",
    "\n",
    "pca = PCA(n_components=2)\n",
    "pca_components = pca.fit_transform(x_stand)\n",
    "\n",
    "principal_df = pd.DataFrame(data = pca_components\n",
    "             , columns = ['PC1', 'PC2'], index = seq_df.index)\n",
    "\n",
    "final_df = pd.concat([principal_df, seq_df[['organism']]], axis = 'columns')"
   ]
  },
  {
   "cell_type": "markdown",
   "metadata": {},
   "source": [
    "Plotting of PCA"
   ]
  },
  {
   "cell_type": "code",
   "execution_count": 131,
   "metadata": {},
   "outputs": [
    {
     "data": {
      "image/png": "[encoded data removed]",
      "text/plain": [
       "<Figure size 576x576 with 1 Axes>"
      ]
     },
     "metadata": {
      "needs_background": "light"
     },
     "output_type": "display_data"
    }
   ],
   "source": [
    "import matplotlib.pyplot as plt\n",
    "\n",
    "fig = plt.figure(figsize = (8,8))\n",
    "ax = fig.add_subplot(1,1,1)\n",
    "ax.set_xlabel('PC1', fontsize = 15)\n",
    "ax.set_ylabel('PC2', fontsize = 15)\n",
    "ax.set_title('PCA', fontsize = 20)\n",
    "\n",
    "\n",
    "organisms = [songname, 'Mus musculus', 'Danio rerio', 'Caenorhabditis elegans', 'Vitis vinifera', 'Chlamydia abortus', 'Felis_catus']\n",
    "colors = ['k', 'r', 'g', 'b', 'y', 'c', 'm']\n",
    "\n",
    "input_shapes = ['triangle', 'circle']\n",
    "#shapes = [50,100]\n",
    "\n",
    "for organism, color in zip(organisms,colors):\n",
    "    indicesToKeep = final_df['organism'] == organism\n",
    "    ax.scatter(final_df.loc[indicesToKeep, 'PC1']\n",
    "               , final_df.loc[indicesToKeep, 'PC2']\n",
    "               , c = color\n",
    "               , s = 50)\n",
    "\n",
    "     \n",
    "    \n",
    "ax.legend(organisms)\n",
    "ax.grid()"
   ]
  },
  {
   "cell_type": "markdown",
   "metadata": {},
   "source": [
    "Saving and opening of PDF file with PCA graph"
   ]
  },
  {
   "cell_type": "code",
   "execution_count": 132,
   "metadata": {},
   "outputs": [
    {
     "data": {
      "image/png": "[encoded data removed]",
      "text/plain": [
       "<IPython.core.display.Image object>"
      ]
     },
     "execution_count": 132,
     "metadata": {},
     "output_type": "execute_result"
    }
   ],
   "source": [
    "fig.savefig('PCA_music2DNA.png', bbox_inches='tight')\n",
    "\n",
    "#import os\n",
    "#dir_path = os.path.dirname(os.path.realpath('PCA_music2DNA.pdf'))\n",
    "#print(dir_path)\n",
    "\n",
    "#import webbrowser\n",
    "#webbrowser.open_new(r'file:'+dir_path+'/PCA_music2DNA.pdf')\n",
    "\n",
    "from IPython.display import Image\n",
    "\n",
    "fig = Image(filename=('PCA_music2DNA.png'))\n",
    "fig"
   ]
  }
 ],
 "metadata": {
  "kernelspec": {
   "display_name": "Python 3",
   "language": "python",
   "name": "python3"
  },
  "language_info": {
   "codemirror_mode": {
    "name": "ipython",
    "version": 3
   },
   "file_extension": ".py",
   "mimetype": "text/x-python",
   "name": "python",
   "nbconvert_exporter": "python",
   "pygments_lexer": "ipython3",
   "version": "3.7.0"
  }
 },
 "nbformat": 4,
 "nbformat_minor": 2
}
